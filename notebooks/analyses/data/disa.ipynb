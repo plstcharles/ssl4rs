{
 "cells": [
  {
   "cell_type": "code",
   "execution_count": null,
   "id": "initial_id",
   "metadata": {},
   "outputs": [],
   "source": [
    "import matplotlib.pyplot as plt\n",
    "import numpy as np\n",
    "import torch\n",
    "import torch.utils.data\n",
    "\n",
    "import ssl4rs.data.parsers.disa\n",
    "import ssl4rs.utils.config\n",
    "import ssl4rs.utils.logging\n",
    "\n",
    "logger = ssl4rs.utils.logging.setup_logging_for_analysis_script()"
   ]
  },
  {
   "cell_type": "code",
   "execution_count": null,
   "id": "d10f8b21c8c00082",
   "metadata": {},
   "outputs": [],
   "source": [
    "# EDIT THIS CELL IF NECESSARY (i.e. if using another local path)\n",
    "dataset_root = ssl4rs.utils.config.get_data_root_dir() / \"ai4h-disa\" / \"india\"\n",
    "assert dataset_root.is_dir(), f\"bad dataset root dir: {dataset_root}\"\n",
    "deeplake_dataset_path = dataset_root / \".deeplake\"\n",
    "assert deeplake_dataset_path.exists(), f\"bad deeplake dataset path: {deeplake_dataset_path}\"\n",
    "logger.info(f\"Ready to parse deeplake dataset at: {deeplake_dataset_path}\")"
   ]
  },
  {
   "cell_type": "code",
   "execution_count": null,
   "id": "1b4f728e98955368",
   "metadata": {},
   "outputs": [],
   "source": [
    "def convert_data_to_float(batch: dict) -> dict:\n",
    "    batch[\"image_data\"] = batch[\"image_data\"].astype(np.float32)\n",
    "    return batch\n",
    "\n",
    "\n",
    "dataset_parser = ssl4rs.data.parsers.disa.DeepLakeParser(\n",
    "    dataset_path_or_object=deeplake_dataset_path,  # already-opened object or path to the .deeplake dir\n",
    "    check_integrity=True,  # will run internal checks to make sure the data is clean/good\n",
    "    batch_transforms=[convert_data_to_float],  # converts uint16 raster data to a pytorch-friendly dtype\n",
    ")\n",
    "dataset_parser.summary()"
   ]
  },
  {
   "cell_type": "code",
   "execution_count": null,
   "id": "97f20805c1e737fe",
   "metadata": {},
   "outputs": [],
   "source": [
    "sample_idx = np.random.randint(len(dataset_parser))\n",
    "sample_data = dataset_parser[sample_idx]\n",
    "logger.info(f\"Displaying preview for {sample_data['location_id']}...\")\n",
    "\n",
    "plt.figure(figsize=(16, 4))\n",
    "\n",
    "plt.subplot(1, 3, 1)\n",
    "plt.imshow(sample_data[\"location_preview_image\"])\n",
    "plt.title(\"Image Preview\")\n",
    "plt.axis(\"off\")\n",
    "\n",
    "plt.subplot(1, 3, 2)\n",
    "plt.imshow(sample_data[\"location_preview_roi\"], cmap=plt.cm.gray)\n",
    "plt.title(\"Region of Interest\")\n",
    "plt.axis(\"off\")\n",
    "\n",
    "plt.subplot(1, 3, 3)\n",
    "plt.imshow(sample_data[\"field_mask\"], cmap=plt.cm.gray)\n",
    "plt.title(\"Field Mask\")\n",
    "plt.axis(\"off\")\n",
    "\n",
    "plt.tight_layout()\n",
    "plt.show()"
   ]
  },
  {
   "cell_type": "code",
   "execution_count": null,
   "id": "fe133600140e8f66",
   "metadata": {},
   "outputs": [],
   "source": [
    "tensor_names = [  # these are the names of tensors we want to work with, and that will be batched\n",
    "    \"location_id\",\n",
    "    \"field_geoms\",\n",
    "    \"field_mask\",\n",
    "    \"image_data\",\n",
    "    \"image_roi\",\n",
    "    \"image_udm2\",\n",
    "]\n",
    "tensor_names_to_collate_manually = [  # anything that is not a numpy array will be manually handled\n",
    "    n for n in tensor_names if not n.startswith(\"image_\") or n != \"field_mask\"\n",
    "]\n",
    "\n",
    "\n",
    "def custom_collate(batches: list[dict]) -> dict:\n",
    "    output = torch.utils.data.default_collate(\n",
    "        [{k: v for k, v in batch.items() if k not in tensor_names_to_collate_manually} for batch in batches]\n",
    "    )\n",
    "    for k in tensor_names_to_collate_manually:\n",
    "        output[k] = [b[k] for b in batches]\n",
    "    return output\n",
    "\n",
    "\n",
    "dataloader = dataset_parser.get_dataloader(  # we will create a dataloader using deeplake directly\n",
    "    batch_size=1,\n",
    "    collate_fn=custom_collate,\n",
    "    tensors=tensor_names,\n",
    ")"
   ]
  },
  {
   "cell_type": "code",
   "execution_count": null,
   "id": "1095dc12017eb8a6",
   "metadata": {},
   "outputs": [],
   "source": [
    "batch = next(iter(dataloader))\n",
    "batch"
   ]
  },
  {
   "cell_type": "code",
   "id": "f9a8f022acc17e6",
   "metadata": {},
   "outputs": [],
   "source": []
  }
 ],
 "metadata": {
  "kernelspec": {
   "display_name": "Python 3 (ipykernel)",
   "language": "python",
   "name": "python3"
  },
  "language_info": {
   "codemirror_mode": {
    "name": "ipython",
    "version": 3
   },
   "file_extension": ".py",
   "mimetype": "text/x-python",
   "name": "python",
   "nbconvert_exporter": "python",
   "pygments_lexer": "ipython3",
   "version": "3.10.13"
  }
 },
 "nbformat": 4,
 "nbformat_minor": 5
}
