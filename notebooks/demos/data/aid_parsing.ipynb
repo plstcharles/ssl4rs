{
 "cells": [
  {
   "cell_type": "code",
   "execution_count": null,
   "metadata": {},
   "outputs": [],
   "source": [
    "import logging\n",
    "\n",
    "import ssl4rs.utils\n",
    "\n",
    "logger = ssl4rs.utils.logging.setup_logging_for_analysis_script(logging.INFO)\n",
    "data_root_path = ssl4rs.utils.config.get_data_root_dir()\n",
    "data_path = data_root_path / \"aid\" / \".deeplake\"\n",
    "print(f\"Will attempt to load dataset at: {data_path}\")"
   ]
  },
  {
   "cell_type": "code",
   "execution_count": null,
   "metadata": {},
   "outputs": [],
   "source": [
    "import ssl4rs.data.parsers.aid\n",
    "\n",
    "parser = ssl4rs.data.parsers.aid.DeepLakeParser(data_path)\n",
    "parser.summary()"
   ]
  },
  {
   "cell_type": "code",
   "execution_count": null,
   "metadata": {},
   "outputs": [],
   "source": [
    "import deeplake.visualizer\n",
    "\n",
    "deeplake.visualizer.visualize(parser.dataset.storage, height=500, width=800)"
   ]
  }
 ],
 "metadata": {
  "kernelspec": {
   "display_name": "Python 3 (ipykernel)",
   "language": "python",
   "name": "python3"
  },
  "language_info": {
   "codemirror_mode": {
    "name": "ipython",
    "version": 3
   },
   "file_extension": ".py",
   "mimetype": "text/x-python",
   "name": "python",
   "nbconvert_exporter": "python",
   "pygments_lexer": "ipython3",
   "version": "3.9.12"
  }
 },
 "nbformat": 4,
 "nbformat_minor": 1
}
