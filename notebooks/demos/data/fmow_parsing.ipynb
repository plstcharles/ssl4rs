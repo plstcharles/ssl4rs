{
 "cells": [
  {
   "cell_type": "code",
   "execution_count": null,
   "metadata": {},
   "outputs": [],
   "source": [
    "import logging\n",
    "\n",
    "import ssl4rs.utils\n",
    "\n",
    "logger = ssl4rs.utils.logging.setup_logging_for_analysis_script(logging.INFO)\n",
    "data_root_path = ssl4rs.utils.config.get_data_root_dir()\n",
    "data_path = data_root_path / \"fmow\" / \"fmow-rgb\" / \".deeplake\"\n",
    "logger.info(f\"Will attempt to load dataset at: {data_path}\")"
   ]
  },
  {
   "cell_type": "code",
   "execution_count": null,
   "metadata": {},
   "outputs": [],
   "source": [
    "import ssl4rs.data.parsers.fmow\n",
    "\n",
    "instance_parser = ssl4rs.data.parsers.fmow.DeepLakeParser(\n",
    "    dataset_path_or_object=data_path,\n",
    "    parsing_strategy=\"instances\",  # each 'sample' will be a unique instance with multiple images\n",
    ")\n",
    "instance_parser.summary()"
   ]
  },
  {
   "cell_type": "code",
   "execution_count": null,
   "metadata": {},
   "outputs": [],
   "source": [
    "# we display multiple images loaded in parallel for a single instance at a time\n",
    "import matplotlib.pyplot as plt\n",
    "import numpy as np\n",
    "import PIL.ImageDraw\n",
    "import torchvision.transforms.functional\n",
    "\n",
    "max_display_count = 5\n",
    "\n",
    "display_instance_idx = np.random.randint(len(instance_parser))\n",
    "print(f\"Will display the different images of instance#{display_instance_idx}...\")\n",
    "batch = instance_parser[display_instance_idx]\n",
    "images = batch[\"image\"]  # list of rgb images, already decoded by default\n",
    "bboxes = batch[\"bbox\"]  # list of LTRB, pixel-wise instance bounding boxes\n",
    "gsds = batch[\"gsd\"]  # list of ground sampling distances for the images\n",
    "labels = batch[\"label\"]  # class label of the instance (e.g. \"airport\")\n",
    "subsets = batch[\"subset\"]  # subset label of the instance (e.g. \"train\")\n",
    "assert len(np.unique(labels)) == 1 and len(np.unique(subsets)) == 1\n",
    "class_name = instance_parser.metadata.class_names[labels[0]]\n",
    "subset_name = instance_parser.metadata.subset_types[subsets[0]]\n",
    "print(f\"\\tclass={class_name}, subset={subset_name}\")\n",
    "image_count = len(images)\n",
    "if image_count > max_display_count:\n",
    "    print(f\"\\tnum images: {image_count} (will display first {max_display_count})\")\n",
    "else:\n",
    "    print(f\"\\tnum images: {image_count}\")\n",
    "display_count = min(max_display_count, image_count)\n",
    "\n",
    "fig, axes = plt.subplots(nrows=1, ncols=display_count, squeeze=False, figsize=(5 * display_count, 5))\n",
    "for img_idx in range(display_count):\n",
    "    image = torchvision.transforms.functional.to_pil_image(images[img_idx])\n",
    "    drawer = PIL.ImageDraw.ImageDraw(image)\n",
    "    bbox = bboxes[img_idx]\n",
    "    left, top = bbox[0], bbox[1]\n",
    "    right, bottom = left + bbox[2], top + bbox[3]\n",
    "    drawer.rectangle((left, top, right, bottom), width=10, outline=\"red\")\n",
    "    axes[0][img_idx].imshow(image, aspect=\"auto\")\n",
    "    axes[0][img_idx].title.set_text(f\"GSD = {gsds[img_idx]:.2f}m\")"
   ]
  },
  {
   "cell_type": "code",
   "execution_count": null,
   "metadata": {},
   "outputs": [],
   "source": [
    "image_parser = ssl4rs.data.parsers.fmow.DeepLakeParser(\n",
    "    dataset_path_or_object=data_path,\n",
    "    parsing_strategy=\"images\",  # each 'sample' will be an image for a an instance\n",
    ")\n",
    "image_parser.summary()\n",
    "# we can use the default visualizer to display image-wise examples\n",
    "image_parser.visualize()"
   ]
  }
 ],
 "metadata": {
  "kernelspec": {
   "display_name": "Python 3 (ipykernel)",
   "language": "python",
   "name": "python3"
  },
  "language_info": {
   "codemirror_mode": {
    "name": "ipython",
    "version": 3
   },
   "file_extension": ".py",
   "mimetype": "text/x-python",
   "name": "python",
   "nbconvert_exporter": "python",
   "pygments_lexer": "ipython3",
   "version": "3.9.12"
  }
 },
 "nbformat": 4,
 "nbformat_minor": 1
}
