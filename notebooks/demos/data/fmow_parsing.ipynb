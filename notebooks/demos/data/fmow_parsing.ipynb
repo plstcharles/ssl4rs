{
 "cells": [
  {
   "cell_type": "code",
   "execution_count": null,
   "metadata": {},
   "outputs": [],
   "source": [
    "import logging\n",
    "\n",
    "import ssl4rs.utils\n",
    "\n",
    "logger = ssl4rs.utils.logging.setup_logging_for_analysis_script(logging.INFO)\n",
    "data_root_path = ssl4rs.utils.config.get_data_root_dir()\n",
    "data_path = data_root_path / \"fmow\" / \"fmow-rgb\" / \".deeplake\"\n",
    "logger.info(f\"Will attempt to load dataset at: {data_path}\")"
   ]
  },
  {
   "cell_type": "code",
   "execution_count": null,
   "metadata": {},
   "outputs": [],
   "source": [
    "import ssl4rs.data.parsers.fmow\n",
    "\n",
    "parser = ssl4rs.data.parsers.fmow.DeepLakeParser(data_path)\n",
    "parser.summary()"
   ]
  },
  {
   "cell_type": "code",
   "execution_count": null,
   "metadata": {},
   "outputs": [],
   "source": [
    "# the default visualizer from deeplake doesn't work too well with sequences of images...\n",
    "# (let's display some stuff manually instead)\n",
    "\n",
    "import matplotlib.pyplot as plt\n",
    "import numpy as np\n",
    "import PIL.Image\n",
    "import PIL.ImageDraw\n",
    "\n",
    "max_display_count = 5\n",
    "\n",
    "display_instance_idx = np.random.randint(len(parser))\n",
    "print(f\"Will display the different views of instance#{display_instance_idx}...\")\n",
    "instance_data = parser[display_instance_idx]\n",
    "instance_view_count = instance_data[\"view_count\"]\n",
    "instance_views = instance_data[\"views\"].data(aslist=True)[\"value\"]  # list of rgb views (images)\n",
    "instance_metadata = instance_data[\"metadata\"]  # list of json metadata dicts of the instance\n",
    "instance_bboxes = instance_data[\"bboxes\"]  # list of LTRB, pixel-wise instance bounding boxes\n",
    "instance_label = instance_data[\"label\"]  # class label of the instance (e.g. \"airport\")\n",
    "instance_subset = instance_data[\"subset\"]  # subset label of the instance (e.g. \"train\")\n",
    "instance_id = instance_data[\"instance\"]  # unique name (str) for this particular instance\n",
    "\n",
    "print(f\"Instance: {instance_id} (class={instance_label}, subset={instance_subset})\")\n",
    "if instance_view_count > max_display_count:\n",
    "    print(f\"\\tNumber of views: {instance_view_count} (will display first {max_display_count})\")\n",
    "else:\n",
    "    print(f\"\\tNumber of views: {instance_view_count}\")\n",
    "display_count = min(max_display_count, instance_view_count)\n",
    "\n",
    "fig, axes = plt.subplots(nrows=1, ncols=display_count, squeeze=False, figsize=(5 * display_count, 5))\n",
    "for view_idx in range(display_count):\n",
    "    view_img = PIL.Image.fromarray(instance_views[view_idx])\n",
    "    drawer = PIL.ImageDraw.ImageDraw(view_img)\n",
    "    bbox = instance_bboxes[view_idx]\n",
    "    left, top = bbox[0], bbox[1]\n",
    "    right, bottom = left + bbox[2], top + bbox[3]\n",
    "    drawer.rectangle((left, top, right, bottom), width=10, outline=\"red\")\n",
    "    axes[0][view_idx].imshow(view_img, aspect=\"auto\")"
   ]
  }
 ],
 "metadata": {
  "kernelspec": {
   "display_name": "Python 3 (ipykernel)",
   "language": "python",
   "name": "python3"
  },
  "language_info": {
   "codemirror_mode": {
    "name": "ipython",
    "version": 3
   },
   "file_extension": ".py",
   "mimetype": "text/x-python",
   "name": "python",
   "nbconvert_exporter": "python",
   "pygments_lexer": "ipython3",
   "version": "3.9.12"
  }
 },
 "nbformat": 4,
 "nbformat_minor": 1
}
