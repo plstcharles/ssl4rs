{
 "cells": [
  {
   "cell_type": "code",
   "execution_count": 1,
   "outputs": [],
   "source": [
    "# this will load the environment variables required to access data/outputs\n",
    "%load_ext dotenv\n",
    "%dotenv ../../.env"
   ],
   "metadata": {
    "collapsed": false,
    "pycharm": {
     "name": "#%%\n"
    }
   }
  },
  {
   "cell_type": "code",
   "execution_count": 3,
   "outputs": [
    {
     "name": "stdout",
     "output_type": "stream",
     "text": [
      "Will attempt to load hub dataset at: /nfs/server/datasets/aid/aid.hub\n"
     ]
    }
   ],
   "source": [
    "import os\n",
    "\n",
    "import ssl4rs.data.parsers.aid\n",
    "\n",
    "data_path = os.path.join(os.getenv(\"DATA_ROOT\"), \"aid/aid.hub\")\n",
    "print(f\"Will attempt to load hub dataset at: {data_path}\")"
   ],
   "metadata": {
    "collapsed": false,
    "pycharm": {
     "name": "#%%\n"
    }
   }
  },
  {
   "cell_type": "code",
   "execution_count": 4,
   "metadata": {
    "pycharm": {
     "name": "#%%\n"
    }
   },
   "outputs": [
    {
     "name": "stdout",
     "output_type": "stream",
     "text": [
      "/nfs/server/datasets/aid/aid.hub loaded successfully.\n",
      "Dataset(path='/nfs/server/datasets/aid/aid.hub', read_only=True, tensors=['image', 'label'])\n",
      "\n",
      " tensor      htype            shape           dtype  compression\n",
      " -------    -------          -------         -------  ------- \n",
      "  image      image     (10000, 600, 600, 3)   uint8    jpeg   \n",
      "  label   class_label       (10000, 1)        int16    None   \n"
     ]
    }
   ],
   "source": [
    "parser = ssl4rs.data.parsers.aid.HubParser(data_path)\n",
    "parser.summary()"
   ]
  },
  {
   "cell_type": "code",
   "execution_count": 5,
   "metadata": {
    "pycharm": {
     "name": "#%%\n"
    }
   },
   "outputs": [
    {
     "data": {
      "text/plain": "<IPython.lib.display.IFrame at 0x7f9ff3c27e20>",
      "text/html": "\n        <iframe\n            width=\"800\"\n            height=\"500\"\n            src=\"https://app.activeloop.ai/visualizer/hub?url=http://localhost:39281/607a237d-2976-4651-af6f-b4f53c3f4f1b/\"\n            frameborder=\"0\"\n            allowfullscreen\n            \n        ></iframe>\n        "
     },
     "metadata": {},
     "output_type": "display_data"
    },
    {
     "name": "stdout",
     "output_type": "stream",
     "text": [
      " * Serving Flask app 'dataset_visualizer' (lazy loading)\n",
      " * Environment: production\n",
      "\u001B[31m   WARNING: This is a development server. Do not use it in a production deployment.\u001B[0m\n",
      "\u001B[2m   Use a production WSGI server instead.\u001B[0m\n",
      " * Debug mode: off\n"
     ]
    }
   ],
   "source": [
    "import deeplake.visualizer\n",
    "deeplake.visualizer.visualize(parser.dataset.storage, height=500, width=800)"
   ]
  },
  {
   "cell_type": "code",
   "execution_count": null,
   "metadata": {
    "pycharm": {
     "name": "#%%\n"
    }
   },
   "outputs": [],
   "source": []
  }
 ],
 "metadata": {
  "kernelspec": {
   "display_name": "Python 3 (ipykernel)",
   "language": "python",
   "name": "python3"
  },
  "language_info": {
   "codemirror_mode": {
    "name": "ipython",
    "version": 3
   },
   "file_extension": ".py",
   "mimetype": "text/x-python",
   "name": "python",
   "nbconvert_exporter": "python",
   "pygments_lexer": "ipython3",
   "version": "3.9.12"
  }
 },
 "nbformat": 4,
 "nbformat_minor": 1
}